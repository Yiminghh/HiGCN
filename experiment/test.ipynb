{
 "cells": [
  {
   "cell_type": "code",
   "execution_count": 1,
   "outputs": [],
   "source": [
    "import os\n",
    "import os.path as osp\n",
    "import torch"
   ],
   "metadata": {
    "collapsed": false,
    "pycharm": {
     "name": "#%%\n"
    }
   }
  },
  {
   "cell_type": "code",
   "execution_count": 2,
   "outputs": [
    {
     "name": "stdout",
     "output_type": "stream",
     "text": [
      "{1: SparseTensor(row=tensor([   0,    0,    0,  ..., 2707, 2707, 2707]),\n",
      "             col=tensor([   0,  633, 1862,  ..., 1473, 2706, 2707]),\n",
      "             val=tensor([0.5000, 0.1667, 0.1443,  ..., 0.1250, 0.1250, 0.5000]),\n",
      "             size=(2708, 2708), nnz=13264, density=0.18%), 2: SparseTensor(row=tensor([   0,    0,    0,  ..., 2707, 2707, 2707]),\n",
      "             col=tensor([   0, 1862, 2582,  ..., 1473, 2706, 2707]),\n",
      "             val=tensor([0.3333, 0.3333, 0.3333,  ..., 0.2000, 0.1721, 0.3333]),\n",
      "             size=(2708, 2708), nnz=7158, density=0.10%), 3: SparseTensor(row=tensor([   4,    4,    4,  ..., 2707, 2707, 2707]),\n",
      "             col=tensor([   4, 1016, 1256,  ..., 1473, 2706, 2707]),\n",
      "             val=tensor([0.2500, 0.1021, 0.1768,  ..., 0.2500, 0.1768, 0.2500]),\n",
      "             size=(2708, 2708), nnz=2029, density=0.03%)}\n"
     ]
    }
   ],
   "source": [
    "name='cora'\n",
    "hl_path = osp.join('..\\\\data\\\\' + name + '\\\\HL_' + name + '.pt')\n",
    "HL = torch.load(hl_path)\n",
    "print(HL)"
   ],
   "metadata": {
    "collapsed": false,
    "pycharm": {
     "name": "#%%\n"
    }
   }
  },
  {
   "cell_type": "code",
   "execution_count": 7,
   "outputs": [
    {
     "name": "stdout",
     "output_type": "stream",
     "text": [
      "{1: SparseTensor(row=tensor([   0,    0,    0,  ..., 2707, 2707, 2707]),\n",
      "             col=tensor([   0,  633, 1862,  ..., 1473, 2706, 2707]),\n",
      "             val=tensor([0.5000, 0.1667, 0.1443,  ..., 0.1250, 0.1250, 0.5000]),\n",
      "             size=(2708, 2708), nnz=13264, density=0.18%), 2: SparseTensor(row=tensor([   0,    0,    0,  ..., 2707, 2707, 2707]),\n",
      "             col=tensor([   0, 1862, 2582,  ..., 1473, 2706, 2707]),\n",
      "             val=tensor([0.3333, 0.3333, 0.3333,  ..., 0.2000, 0.1721, 0.3333]),\n",
      "             size=(2708, 2708), nnz=7158, density=0.10%)}\n"
     ]
    }
   ],
   "source": [
    "hl_path = osp.join('..\\\\data\\\\' + name + '\\\\HL_' + name + '_3.pt')\n",
    "HL2 = torch.load(hl_path)\n",
    "print(HL2)"
   ],
   "metadata": {
    "collapsed": false,
    "pycharm": {
     "name": "#%%\n"
    }
   }
  },
  {
   "cell_type": "code",
   "execution_count": 9,
   "outputs": [
    {
     "name": "stdout",
     "output_type": "stream",
     "text": [
      "tensor([[1.0000, 2.0000, 3.0000],\n",
      "        [7.0000, 0.0000, 1.2000]])\n"
     ]
    }
   ],
   "source": [
    "a = torch.tensor([[1,2,3],[7,0.0,1.2]])\n",
    "print(a)"
   ],
   "metadata": {
    "collapsed": false,
    "pycharm": {
     "name": "#%%\n"
    }
   }
  },
  {
   "cell_type": "code",
   "execution_count": 11,
   "outputs": [
    {
     "name": "stdout",
     "output_type": "stream",
     "text": [
      "tensor([[1., 1., 1.],\n",
      "        [1., 1., 1.]])\n"
     ]
    }
   ],
   "source": [
    "b = torch.ones(a.size())\n",
    "print(b)"
   ],
   "metadata": {
    "collapsed": false,
    "pycharm": {
     "name": "#%%\n"
    }
   }
  },
  {
   "cell_type": "code",
   "execution_count": 20,
   "outputs": [
    {
     "name": "stdout",
     "output_type": "stream",
     "text": [
      "tensor([[[1.0000, 2.0000, 3.0000],\n",
      "         [7.0000, 0.0000, 1.2000]],\n",
      "\n",
      "        [[1.0000, 1.0000, 1.0000],\n",
      "         [1.0000, 1.0000, 1.0000]]])\n",
      "torch.Size([2, 2, 3])\n",
      "tensor([[1.],\n",
      "        [1.],\n",
      "        [1.]])\n"
     ]
    }
   ],
   "source": [
    "z=[]\n",
    "z.append(a)\n",
    "z.append(b)\n",
    "c=torch.stack(z, dim=0)\n",
    "print(c)\n",
    "print(c.size())\n",
    "t = torch.ones(3,1)\n",
    "print(t)"
   ],
   "metadata": {
    "collapsed": false,
    "pycharm": {
     "name": "#%%\n"
    }
   }
  },
  {
   "cell_type": "code",
   "execution_count": 22,
   "outputs": [
    {
     "name": "stdout",
     "output_type": "stream",
     "text": [
      "tensor([[ 9.0000],\n",
      "        [11.2000]])\n"
     ]
    }
   ],
   "source": [
    "s=torch.einsum('bij,jk->ik', c,t )\n",
    "print(s)"
   ],
   "metadata": {
    "collapsed": false,
    "pycharm": {
     "name": "#%%\n"
    }
   }
  },
  {
   "cell_type": "code",
   "execution_count": 26,
   "outputs": [
    {
     "data": {
      "text/plain": "tensor([[6.0000],\n        [8.2000]])"
     },
     "execution_count": 26,
     "metadata": {},
     "output_type": "execute_result"
    }
   ],
   "source": [
    "torch.mm(a,t)"
   ],
   "metadata": {
    "collapsed": false,
    "pycharm": {
     "name": "#%%\n"
    }
   }
  },
  {
   "cell_type": "code",
   "execution_count": 33,
   "outputs": [
    {
     "name": "stdout",
     "output_type": "stream",
     "text": [
      "tensor([[1.0000, 2.0000, 3.0000],\n",
      "        [7.0000, 0.0000, 1.2000]])\n",
      "[tensor([[1.0000, 2.0000, 3.0000],\n",
      "        [7.0000, 0.0000, 1.2000]]), tensor([[1.0000, 2.0000, 3.0000],\n",
      "        [7.0000, 0.0000, 1.2000]])]\n"
     ]
    }
   ],
   "source": [
    "print(a)\n",
    "t=[a,a]\n",
    "\n",
    "print(t)"
   ],
   "metadata": {
    "collapsed": false,
    "pycharm": {
     "name": "#%%\n"
    }
   }
  },
  {
   "cell_type": "code",
   "execution_count": 37,
   "outputs": [
    {
     "name": "stdout",
     "output_type": "stream",
     "text": [
      "2\n",
      "4\n",
      "6\n",
      "8\n"
     ]
    }
   ],
   "source": [
    "for i in range(2,10,2):\n",
    "    print(i)"
   ],
   "metadata": {
    "collapsed": false,
    "pycharm": {
     "name": "#%%\n"
    }
   }
  },
  {
   "cell_type": "code",
   "execution_count": 41,
   "outputs": [
    {
     "name": "stdout",
     "output_type": "stream",
     "text": [
      "tensor([0.])\n"
     ]
    }
   ],
   "source": [
    "a = torch.Tensor(1)\n",
    "print(a)"
   ],
   "metadata": {
    "collapsed": false,
    "pycharm": {
     "name": "#%%\n"
    }
   }
  },
  {
   "cell_type": "code",
   "execution_count": null,
   "outputs": [],
   "source": [],
   "metadata": {
    "collapsed": false,
    "pycharm": {
     "name": "#%%\n"
    }
   }
  }
 ],
 "metadata": {
  "kernelspec": {
   "display_name": "Python 3",
   "language": "python",
   "name": "python3"
  },
  "language_info": {
   "codemirror_mode": {
    "name": "ipython",
    "version": 2
   },
   "file_extension": ".py",
   "mimetype": "text/x-python",
   "name": "python",
   "nbconvert_exporter": "python",
   "pygments_lexer": "ipython2",
   "version": "2.7.6"
  }
 },
 "nbformat": 4,
 "nbformat_minor": 0
}